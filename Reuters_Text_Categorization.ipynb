{
 "cells": [
  {
   "cell_type": "markdown",
   "metadata": {},
   "source": [
    "# Reuters-21578 Text Categorization\n",
    "The goal of this section is to implement a machine learning model that correctly classifies a series of documents in the Reuters-21578 corpus. Each document's \"BODY\" and \"TITLE\" is used to predict the overall category, or \"TOPIC\", of the document.\n",
    "\n",
    "First, the frequency of top words in each document's \"BODY\" and \"TITLE\" is calculated and used to create a sparse matrix of features. The most popular \"TOPIC\" for each document comprises the list of labels\n",
    "\n",
    "The K-Means Clustering adds more value to analyzing the top words and groups them into 135 clusters, reflecting the 135 potential \"TOPICS\".\n",
    "\n",
    "The Naive Bayes algorithm uses two approaches to classify: SkLearn randomized the test_train_split and \"LEWISSPLIT\" predetermined split, which was used in the TOIS located in the Resources directory.\n",
    "    - Using the SkLearn split, \"BODY\" accurately classfies \n",
    "    - Using the \"LEWISSPLIT\", \"BODY\" classifies about"
   ]
  },
  {
   "cell_type": "markdown",
   "metadata": {},
   "source": [
    "## Frequency of Top Words\n",
    "This section determines the frequencies of top words in the entire corpus. The words are taken from either the text \"BODY\" or \"TITLE\".\n",
    "\n",
    "Words that do not have an impact on the overall categorization of the article, or stopwords, such as \"and\" and \"the\" are removed from the list of words. A sparse matrix is created for the features and a separate list is created with a single topic for each document ID."
   ]
  },
  {
   "cell_type": "code",
   "execution_count": null,
   "metadata": {},
   "outputs": [],
   "source": []
  }
 ],
 "metadata": {
  "kernelspec": {
   "display_name": "Python 3",
   "language": "python",
   "name": "python3"
  },
  "language_info": {
   "codemirror_mode": {
    "name": "ipython",
    "version": 3
   },
   "file_extension": ".py",
   "mimetype": "text/x-python",
   "name": "python",
   "nbconvert_exporter": "python",
   "pygments_lexer": "ipython3",
   "version": "3.6.3"
  }
 },
 "nbformat": 4,
 "nbformat_minor": 2
}
